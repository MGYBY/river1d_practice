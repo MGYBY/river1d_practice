{
 "cells": [
  {
   "cell_type": "code",
   "execution_count": 1,
   "id": "35786c31",
   "metadata": {},
   "outputs": [],
   "source": [
    "import xarray as xr\n",
    "import numpy as np\n",
    "import pandas as pd"
   ]
  },
  {
   "cell_type": "code",
   "execution_count": 12,
   "id": "759367fa",
   "metadata": {},
   "outputs": [],
   "source": [
    "total_output_num = 225*2\n",
    "node_num = 182\n",
    "for file_num in range(total_output_num):\n",
    "    if (file_num>1):\n",
    "        skiprow_num = 6+1+node_num+(file_num-1)*(node_num+3+1)+3\n",
    "    elif (file_num==1):\n",
    "        skiprow_num = 6+1+node_num+3\n",
    "    else:\n",
    "        skiprow_num = 6\n",
    "    out_data = pd.read_csv('./output.csv', skiprows=skiprow_num, nrows=node_num)\n",
    "    # hs_data\n",
    "    # save to a new file\n",
    "    filename = \"./sep_csv/output_\"+str(file_num)+\".csv\"\n",
    "    out_data.to_csv(filename, index=False)  \n",
    "    # np.savetxt(f, filename, fmt='%g')"
   ]
  },
  {
   "cell_type": "code",
   "execution_count": 5,
   "id": "302ef50e",
   "metadata": {},
   "outputs": [],
   "source": [
    "out_data1 = pd.read_csv('./output.csv', skiprows=6+1+182+3, nrows=182)\n",
    "out_data2 = pd.read_csv('./output.csv', skiprows=6+1+182+(2-1)*(182+3+1)+3, nrows=182)\n",
    "out_ave = (out_data1+out_data2)/1.0"
   ]
  },
  {
   "cell_type": "code",
   "execution_count": 17,
   "id": "3ac6c75d",
   "metadata": {},
   "outputs": [
    {
     "name": "stdout",
     "output_type": "stream",
     "text": [
      "./sep_csv/output_363.csv\n",
      "./sep_csv/output_364.csv\n",
      "./sep_csv/output_365.csv\n",
      "./sep_csv/output_366.csv\n",
      "./sep_csv/output_367.csv\n",
      "./sep_csv/output_368.csv\n",
      "./sep_csv/output_369.csv\n",
      "./sep_csv/output_370.csv\n",
      "./sep_csv/output_371.csv\n",
      "./sep_csv/output_372.csv\n",
      "./sep_csv/output_373.csv\n",
      "./sep_csv/output_374.csv\n",
      "./sep_csv/output_375.csv\n",
      "./sep_csv/output_376.csv\n",
      "./sep_csv/output_377.csv\n",
      "./sep_csv/output_378.csv\n",
      "./sep_csv/output_379.csv\n",
      "./sep_csv/output_380.csv\n",
      "./sep_csv/output_381.csv\n",
      "./sep_csv/output_382.csv\n",
      "./sep_csv/output_383.csv\n",
      "./sep_csv/output_384.csv\n",
      "./sep_csv/output_385.csv\n",
      "./sep_csv/output_386.csv\n",
      "./sep_csv/output_387.csv\n",
      "./sep_csv/output_388.csv\n",
      "./sep_csv/output_389.csv\n",
      "./sep_csv/output_390.csv\n",
      "./sep_csv/output_391.csv\n",
      "./sep_csv/output_392.csv\n",
      "./sep_csv/output_393.csv\n",
      "./sep_csv/output_394.csv\n",
      "./sep_csv/output_395.csv\n",
      "./sep_csv/output_396.csv\n",
      "./sep_csv/output_397.csv\n",
      "./sep_csv/output_398.csv\n",
      "./sep_csv/output_399.csv\n",
      "./sep_csv/output_400.csv\n",
      "./sep_csv/output_401.csv\n",
      "./sep_csv/output_402.csv\n",
      "./sep_csv/output_403.csv\n",
      "./sep_csv/output_404.csv\n",
      "./sep_csv/output_405.csv\n",
      "./sep_csv/output_406.csv\n",
      "./sep_csv/output_407.csv\n",
      "./sep_csv/output_408.csv\n",
      "./sep_csv/output_409.csv\n",
      "./sep_csv/output_410.csv\n",
      "./sep_csv/output_411.csv\n",
      "./sep_csv/output_412.csv\n",
      "./sep_csv/output_413.csv\n",
      "./sep_csv/output_414.csv\n",
      "./sep_csv/output_415.csv\n",
      "./sep_csv/output_416.csv\n",
      "./sep_csv/output_417.csv\n",
      "./sep_csv/output_418.csv\n",
      "./sep_csv/output_419.csv\n",
      "./sep_csv/output_420.csv\n",
      "./sep_csv/output_421.csv\n",
      "./sep_csv/output_422.csv\n",
      "./sep_csv/output_423.csv\n",
      "./sep_csv/output_424.csv\n",
      "./sep_csv/output_425.csv\n"
     ]
    }
   ],
   "source": [
    "# taking the average for each month\n",
    "node_num = 182\n",
    "time_stamps_sim_0 = pd.date_range(start='2018-11-1 00:00:00', end='2019-5-1 00:00:00', freq=\"12h\")\n",
    "time_stamps_sim = pd.date_range(start='2019-5-1 00:00:00', end='2019-6-1 00:00:00', freq=\"12h\")\n",
    "num_file = len(time_stamps_sim)\n",
    "file_start = len(time_stamps_sim_0)\n",
    "# file_start = 1\n",
    "num_file = len(time_stamps_sim)\n",
    "count = 0\n",
    "out_data = 0.0\n",
    "for time in range(file_start, min(file_start+num_file, 225*2), 1):\n",
    "    filename = r'./sep_csv/output_'+str(time)+'.csv'\n",
    "    if count==0:\n",
    "        out_data = pd.read_csv(filename, skiprows=None, nrows=node_num)\n",
    "    else:\n",
    "        out_data += pd.read_csv(filename, skiprows=None, nrows=node_num)\n",
    "    count+=1\n",
    "    print(filename)\n",
    "\n",
    "out_data /= count\n",
    "out_data.to_csv(r'./2019-5.csv', index=False) "
   ]
  },
  {
   "cell_type": "code",
   "execution_count": null,
   "id": "d59b57cc",
   "metadata": {},
   "outputs": [],
   "source": []
  }
 ],
 "metadata": {
  "kernelspec": {
   "display_name": "base",
   "language": "python",
   "name": "python3"
  },
  "language_info": {
   "codemirror_mode": {
    "name": "ipython",
    "version": 3
   },
   "file_extension": ".py",
   "mimetype": "text/x-python",
   "name": "python",
   "nbconvert_exporter": "python",
   "pygments_lexer": "ipython3",
   "version": "3.12.7"
  }
 },
 "nbformat": 4,
 "nbformat_minor": 5
}
