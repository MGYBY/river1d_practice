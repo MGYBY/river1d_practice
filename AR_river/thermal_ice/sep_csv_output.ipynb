{
 "cells": [
  {
   "cell_type": "code",
   "execution_count": 1,
   "id": "35786c31",
   "metadata": {},
   "outputs": [],
   "source": [
    "import xarray as xr\n",
    "import numpy as np\n",
    "import pandas as pd"
   ]
  },
  {
   "cell_type": "code",
   "execution_count": 13,
   "id": "759367fa",
   "metadata": {},
   "outputs": [],
   "source": [
    "total_output_num = 230\n",
    "node_num = 182\n",
    "for file_num in range(total_output_num):\n",
    "    if (file_num>1):\n",
    "        skiprow_num = 6+1+node_num+(file_num-1)*(node_num+3+1)+3\n",
    "    elif (file_num==1):\n",
    "        skiprow_num = 6+1+node_num+3\n",
    "    else:\n",
    "        skiprow_num = 6\n",
    "    out_data = pd.read_csv('./output.csv', skiprows=skiprow_num, nrows=node_num)\n",
    "    # hs_data\n",
    "    # save to a new file\n",
    "    filename = \"./sep_csv/output_\"+str(file_num)+\".csv\"\n",
    "    out_data.to_csv(filename, index=False)  \n",
    "    # np.savetxt(f, filename, fmt='%g')"
   ]
  },
  {
   "cell_type": "code",
   "execution_count": 5,
   "id": "302ef50e",
   "metadata": {},
   "outputs": [],
   "source": [
    "out_data1 = pd.read_csv('./output.csv', skiprows=6+1+182+3, nrows=182)\n",
    "out_data2 = pd.read_csv('./output.csv', skiprows=6+1+182+(2-1)*(182+3+1)+3, nrows=182)\n",
    "out_ave = (out_data1+out_data2)/1.0"
   ]
  },
  {
   "cell_type": "code",
   "execution_count": 17,
   "id": "3ac6c75d",
   "metadata": {},
   "outputs": [],
   "source": [
    "# taking the average for each month\n",
    "node_num = 182\n",
    "time_stamps_sim_0 = pd.date_range(start='2018-11-1 00:00:00', end='2019-5-1 00:00:00', freq=\"1d\")\n",
    "time_stamps_sim = pd.date_range(start='2019-5-1 00:00:00', end='2019-6-1 00:00:00', freq=\"1d\")\n",
    "num_file = len(time_stamps_sim)\n",
    "file_start = len(time_stamps_sim_0)\n",
    "# file_start = 1\n",
    "num_file = len(time_stamps_sim)\n",
    "count = 0\n",
    "for time in range(file_start, min(file_start+num_file, 230), 1):\n",
    "    filename = r'./sep_csv/output_'+str(file_start)+'.csv'\n",
    "    if count==0:\n",
    "        out_data = pd.read_csv(filename, skiprows=None, nrows=node_num)\n",
    "    else:\n",
    "        out_data += pd.read_csv(filename, skiprows=None, nrows=node_num)\n",
    "    count+=1\n",
    "\n",
    "out_data /= count\n",
    "out_data.to_csv(r'./2019-May.csv', index=False) "
   ]
  },
  {
   "cell_type": "code",
   "execution_count": null,
   "id": "d59b57cc",
   "metadata": {},
   "outputs": [],
   "source": []
  }
 ],
 "metadata": {
  "kernelspec": {
   "display_name": "base",
   "language": "python",
   "name": "python3"
  },
  "language_info": {
   "codemirror_mode": {
    "name": "ipython",
    "version": 3
   },
   "file_extension": ".py",
   "mimetype": "text/x-python",
   "name": "python",
   "nbconvert_exporter": "python",
   "pygments_lexer": "ipython3",
   "version": "3.12.7"
  }
 },
 "nbformat": 4,
 "nbformat_minor": 5
}
