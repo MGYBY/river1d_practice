{
 "cells": [
  {
   "cell_type": "code",
   "execution_count": 1,
   "id": "35786c31",
   "metadata": {},
   "outputs": [],
   "source": [
    "import xarray as xr\n",
    "import numpy as np\n",
    "import pandas as pd"
   ]
  },
  {
   "cell_type": "code",
   "execution_count": 13,
   "id": "759367fa",
   "metadata": {},
   "outputs": [],
   "source": [
    "total_output_num = 230\n",
    "node_num = 182\n",
    "for file_num in range(total_output_num):\n",
    "    if (file_num>1):\n",
    "        skiprow_num = 6+1+node_num+(file_num-1)*(node_num+3+1)+3\n",
    "    elif (file_num==1):\n",
    "        skiprow_num = 6+1+node_num+3\n",
    "    else:\n",
    "        skiprow_num = 6\n",
    "    out_data = pd.read_csv('./output.csv', skiprows=skiprow_num, nrows=node_num)\n",
    "    # hs_data\n",
    "    # save to a new file\n",
    "    filename = \"./sep_csv/output_\"+str(file_num)+\".csv\"\n",
    "    out_data.to_csv(filename, index=False)  \n",
    "    # np.savetxt(f, filename, fmt='%g')"
   ]
  },
  {
   "cell_type": "code",
   "execution_count": null,
   "id": "302ef50e",
   "metadata": {},
   "outputs": [],
   "source": []
  }
 ],
 "metadata": {
  "kernelspec": {
   "display_name": "base",
   "language": "python",
   "name": "python3"
  },
  "language_info": {
   "codemirror_mode": {
    "name": "ipython",
    "version": 3
   },
   "file_extension": ".py",
   "mimetype": "text/x-python",
   "name": "python",
   "nbconvert_exporter": "python",
   "pygments_lexer": "ipython3",
   "version": "3.12.7"
  }
 },
 "nbformat": 4,
 "nbformat_minor": 5
}
